{
 "cells": [
  {
   "cell_type": "code",
   "execution_count": 1,
   "metadata": {},
   "outputs": [
    {
     "name": "stderr",
     "output_type": "stream",
     "text": [
      "Using TensorFlow backend.\n"
     ]
    }
   ],
   "source": [
    "import numpy as np\n",
    "from skimage import io, color, exposure, transform\n",
    "from sklearn.model_selection import train_test_split\n",
    "import os\n",
    "import glob\n",
    "import h5py\n",
    "\n",
    "from keras.preprocessing.image import ImageDataGenerator\n",
    "from keras.models import Sequential, model_from_json\n",
    "from keras.layers import Dense, Dropout, Activation, Flatten, Reshape, Input\n",
    "from keras.layers import Convolution2D, MaxPooling2D\n",
    "from keras.optimizers import SGD\n",
    "from keras.utils import np_utils\n",
    "from keras.layers import Merge\n",
    "from keras.callbacks import LearningRateScheduler, ModelCheckpoint\n",
    "\n",
    "from matplotlib import pyplot as plt"
   ]
  },
  {
   "cell_type": "code",
   "execution_count": 2,
   "metadata": {
    "collapsed": true
   },
   "outputs": [],
   "source": [
    "NUM_CLASSES = 43\n",
    "IMG_SIZE = 48"
   ]
  },
  {
   "cell_type": "code",
   "execution_count": 3,
   "metadata": {
    "collapsed": true
   },
   "outputs": [],
   "source": [
    "def get_class(img_path):\n",
    "    return int(img_path.split('/')[-2])\n",
    "\n",
    "def preprocess_img(img):\n",
    "    # Histogram normalization in y\n",
    "    hsv = color.rgb2hsv(img)\n",
    "    hsv[:,:,2] = exposure.equalize_hist(hsv[:,:,2])\n",
    "    img = color.hsv2rgb(hsv)\n",
    "\n",
    "    # central scrop\n",
    "    min_side = min(img.shape[:-1])\n",
    "    centre = img.shape[0]//2, img.shape[1]//2\n",
    "    img = img[centre[0]-min_side//2:centre[0]+min_side//2,\n",
    "              centre[1]-min_side//2:centre[1]+min_side//2,\n",
    "              :]\n",
    "\n",
    "    # rescale to standard size\n",
    "    img = transform.resize(img, (IMG_SIZE, IMG_SIZE))\n",
    "\n",
    "    # roll color axis to axis 0\n",
    "    img = np.rollaxis(img,-1)\n",
    "\n",
    "    return img"
   ]
  },
  {
   "cell_type": "code",
   "execution_count": 4,
   "metadata": {
    "collapsed": true
   },
   "outputs": [],
   "source": [
    "def readTrafficSigns(root_dir):\n",
    "    imgs = []\n",
    "    labels = []\n",
    "\n",
    "    all_img_paths = glob.glob(os.path.join(root_dir, '*/*.ppm'))\n",
    "\n",
    "    for img_path in all_img_paths:\n",
    "        try:\n",
    "            img = preprocess_img(io.imread(img_path))\n",
    "            label = get_class(img_path)\n",
    "            imgs.append(img)\n",
    "            labels.append(label)\n",
    "\n",
    "            if len(imgs)%1000 == 0: print(\"Processed {}/{}\".format(len(imgs), len(all_img_paths)))\n",
    "        except (IOError, OSError):\n",
    "            print('missed', img_path)\n",
    "            pass\n",
    "    return imgs,labels"
   ]
  },
  {
   "cell_type": "code",
   "execution_count": 5,
   "metadata": {},
   "outputs": [
    {
     "name": "stdout",
     "output_type": "stream",
     "text": [
      "[INFO] Training images and labels are loaded in variables ==> X,y\n"
     ]
    }
   ],
   "source": [
    "if os.path.isfile(\"Image_n_Labels/trainImagesCNN.npy\") &  os.path.isfile(\"Image_n_Labels/trainLabelsCNN.npy\") :\n",
    "    imgs = np.load(\"Image_n_Labels/trainImagesCNN.npy\")\n",
    "    labels = np.load(\"Image_n_Labels/trainLabelsCNN.npy\")\n",
    "    print(\"[INFO] Training images and labels are loaded in variables ==> X,y\")\n",
    "    #print(\"[INFO] Number of training Images {} \\nNumber of Labels {}\".format(len(imgs), len(y)))\n",
    "    \n",
    "else:\n",
    "    trainImages, trainLabels =readTrafficSigns(\"/home/nikita/Downloads/gtsrb/dataset/GTSRB_finaltraining/Final_Training/Images\")\n",
    "    np.save(\"Image_n_Labels/trainImagesCNN.npy\",trainImages)\n",
    "    np.save(\"Image_n_Labels/trainLabelsCNN.npy\",trainLabels)\n",
    "    print(\"[INFO] training images and labels are read from the dataset directory\")\n",
    "    print(\"[INFO] training images saved to Image_n_Labels/trainingImagesCNN.npy for further use\")\n",
    "    print(\"[INFO] training labels saved to Image_n_Labels/trainingLabelsCNN.npy for further use\")\n",
    "    imgs = np.load(\"Image_n_Labels/trainImagesCNN.npy\")\n",
    "    labels = np.load(\"Image_n_Labels/trainLabelsCNN.npy\")"
   ]
  },
  {
   "cell_type": "code",
   "execution_count": 6,
   "metadata": {
    "collapsed": true
   },
   "outputs": [],
   "source": [
    "X = np.array(imgs, dtype='float32')\n",
    "Y = np.eye(NUM_CLASSES, dtype='uint8')[labels]\n",
    "\n",
    "with h5py.File('X.h5','w') as hf:\n",
    "    hf.create_dataset('imgs', data=X)\n",
    "    hf.create_dataset('labels', data=Y)\n"
   ]
  },
  {
   "cell_type": "code",
   "execution_count": 7,
   "metadata": {},
   "outputs": [],
   "source": [
    "def leNet():\n",
    "    model = Sequential()\n",
    "\n",
    "    model.add(Convolution2D(6, (5, 5), padding='valid', input_shape = (3, IMG_SIZE, IMG_SIZE), data_format=\"channels_first\"))\n",
    "    model.add(MaxPooling2D(pool_size=(2, 2)))\n",
    "    model.add(Activation(\"sigmoid\"))\n",
    "    #model.add(Dropout(0.5))\n",
    "\n",
    "    model.add(Convolution2D(16, (5, 5), padding='valid', data_format=\"channels_first\"))\n",
    "    model.add(MaxPooling2D(pool_size=(2, 2)))\n",
    "    model.add(Activation(\"sigmoid\"))\n",
    "    model.add(Dropout(0.5))\n",
    "\n",
    "    model.add(Convolution2D(120, (1, 1), padding='valid',data_format=\"channels_first\"))\n",
    "\n",
    "    model.add(Flatten())\n",
    "    model.add(Dense(84))\n",
    "    model.add(Activation(\"sigmoid\"))\n",
    "    model.add(Dense(43))\n",
    "    model.add(Activation('softmax'))\n",
    "    return model"
   ]
  },
  {
   "cell_type": "code",
   "execution_count": 8,
   "metadata": {},
   "outputs": [],
   "source": [
    "model = leNet()\n",
    "# let's train the model using SGD + momentum (how original).\n",
    "lr = 0.01\n",
    "sgd = SGD(lr=lr, decay=1e-6, momentum=0.9, nesterov=True)\n",
    "model.compile(loss='categorical_crossentropy',\n",
    "          optimizer=sgd,\n",
    "          metrics=['accuracy'])"
   ]
  },
  {
   "cell_type": "code",
   "execution_count": 9,
   "metadata": {
    "collapsed": true
   },
   "outputs": [],
   "source": [
    "def lr_schedule(epoch):\n",
    "    return lr*(0.1**int(epoch/10))"
   ]
  },
  {
   "cell_type": "code",
   "execution_count": null,
   "metadata": {},
   "outputs": [
    {
     "name": "stdout",
     "output_type": "stream",
     "text": [
      "Train on 31367 samples, validate on 7842 samples\n",
      "Epoch 1/30\n",
      "31367/31367 [==============================] - 223s - loss: 3.3437 - acc: 0.0663 - val_loss: 7.9632 - val_acc: 0.0000e+00\n",
      "Epoch 2/30\n",
      "31367/31367 [==============================] - 227s - loss: 3.3341 - acc: 0.0669 - val_loss: 7.9697 - val_acc: 0.0000e+00\n",
      "Epoch 3/30\n",
      "31367/31367 [==============================] - 229s - loss: 2.8432 - acc: 0.1992 - val_loss: 8.2863 - val_acc: 0.0000e+00\n",
      "Epoch 4/30\n",
      "31367/31367 [==============================] - 225s - loss: 1.2126 - acc: 0.6407 - val_loss: 9.2620 - val_acc: 0.0128\n",
      "Epoch 5/30\n",
      "31367/31367 [==============================] - 220s - loss: 0.6126 - acc: 0.8359 - val_loss: 9.7148 - val_acc: 0.0732\n",
      "Epoch 6/30\n",
      "31367/31367 [==============================] - 227s - loss: 0.4125 - acc: 0.8941 - val_loss: 10.2377 - val_acc: 0.0814\n",
      "Epoch 7/30\n",
      "31367/31367 [==============================] - 225s - loss: 0.3163 - acc: 0.9181 - val_loss: 10.4739 - val_acc: 0.0922\n",
      "Epoch 8/30\n",
      "31367/31367 [==============================] - 223s - loss: 0.2578 - acc: 0.9347 - val_loss: 10.7391 - val_acc: 0.0945\n",
      "Epoch 9/30\n",
      "31367/31367 [==============================] - 225s - loss: 0.2199 - acc: 0.9434 - val_loss: 10.8725 - val_acc: 0.0956\n",
      "Epoch 10/30\n",
      "31367/31367 [==============================] - 223s - loss: 0.1911 - acc: 0.9517 - val_loss: 11.1417 - val_acc: 0.0990\n",
      "Epoch 11/30\n",
      "31367/31367 [==============================] - 222s - loss: 0.1623 - acc: 0.9616 - val_loss: 11.1245 - val_acc: 0.0988\n",
      "Epoch 12/30\n",
      "31367/31367 [==============================] - 217s - loss: 0.1543 - acc: 0.9630 - val_loss: 11.1296 - val_acc: 0.0984\n",
      "Epoch 13/30\n",
      "20256/31367 [==================>...........] - ETA: 69s - loss: 0.1489 - acc: 0.9653"
     ]
    }
   ],
   "source": [
    "\n",
    "batch_size = 32\n",
    "nb_epoch = 30\n",
    "\n",
    "model.fit(X, Y,\n",
    "          batch_size=batch_size,\n",
    "          epochs=nb_epoch,\n",
    "          validation_split=0.2,\n",
    "          shuffle=True,\n",
    "          callbacks=[LearningRateScheduler(lr_schedule),\n",
    "                    ModelCheckpoint('leNet.h5',save_best_only=True)]\n",
    "            )"
   ]
  },
  {
   "cell_type": "code",
   "execution_count": null,
   "metadata": {
    "collapsed": true
   },
   "outputs": [],
   "source": []
  }
 ],
 "metadata": {
  "kernelspec": {
   "display_name": "Python 2",
   "language": "python",
   "name": "python2"
  },
  "language_info": {
   "codemirror_mode": {
    "name": "ipython",
    "version": 2
   },
   "file_extension": ".py",
   "mimetype": "text/x-python",
   "name": "python",
   "nbconvert_exporter": "python",
   "pygments_lexer": "ipython2",
   "version": "2.7.13"
  }
 },
 "nbformat": 4,
 "nbformat_minor": 2
}
